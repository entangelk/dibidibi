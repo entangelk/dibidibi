{
 "cells": [
  {
   "cell_type": "code",
   "execution_count": 19,
   "metadata": {},
   "outputs": [],
   "source": [
    "import pandas as pd\n",
    "import matplotlib.pyplot as plt\n",
    "import seaborn as sns\n",
    "import pickle\n",
    "\n",
    "from datetime import datetime\n",
    "import numpy as np\n",
    "\n",
    "import warnings\n",
    "warnings.filterwarnings('ignore')\n",
    "\n",
    "import platform\n",
    "import pickle as pkl\n",
    "\n",
    "system = platform.system()\n",
    "\n",
    "if system == 'Windows':\n",
    "    plt.rcParams['font.family'] = 'Malgun Gothic'\n",
    "else:\n",
    "    !apt-get -y install fonts-nanum\n",
    "    !fc-cache -fv\n",
    "    !rm ~/.cache/matplotlib -rf\n",
    "\n",
    "    plt.rcParams['font.family'] = 'NanumBarunGothic'\n"
   ]
  },
  {
   "cell_type": "code",
   "execution_count": 20,
   "metadata": {},
   "outputs": [],
   "source": [
    "df_product = pd.read_csv('../data/dibidibi.product.csv')"
   ]
  },
  {
   "cell_type": "markdown",
   "metadata": {},
   "source": [
    "## 결측치 / 이상치 처리"
   ]
  },
  {
   "cell_type": "code",
   "execution_count": 21,
   "metadata": {},
   "outputs": [],
   "source": [
    "df_product = df_product.drop(columns='_id')"
   ]
  },
  {
   "cell_type": "code",
   "execution_count": 22,
   "metadata": {},
   "outputs": [],
   "source": [
    "df_product = df_product.drop_duplicates()"
   ]
  },
  {
   "cell_type": "code",
   "execution_count": 23,
   "metadata": {},
   "outputs": [
    {
     "name": "stdout",
     "output_type": "stream",
     "text": [
      "<class 'pandas.core.frame.DataFrame'>\n",
      "Index: 50874 entries, 0 to 50875\n",
      "Data columns (total 7 columns):\n",
      " #   Column               Non-Null Count  Dtype  \n",
      "---  ------               --------------  -----  \n",
      " 0   large_category_name  50874 non-null  object \n",
      " 1   small_category_name  50719 non-null  object \n",
      " 2   zzim                 50874 non-null  int64  \n",
      " 3   product_name         50874 non-null  object \n",
      " 4   product_price        49240 non-null  float64\n",
      " 5   product_event_price  49113 non-null  float64\n",
      " 6   seller_name          50874 non-null  object \n",
      "dtypes: float64(2), int64(1), object(4)\n",
      "memory usage: 3.1+ MB\n"
     ]
    }
   ],
   "source": [
    "df_product.info()"
   ]
  },
  {
   "cell_type": "code",
   "execution_count": 24,
   "metadata": {},
   "outputs": [
    {
     "data": {
      "text/html": [
       "<div>\n",
       "<style scoped>\n",
       "    .dataframe tbody tr th:only-of-type {\n",
       "        vertical-align: middle;\n",
       "    }\n",
       "\n",
       "    .dataframe tbody tr th {\n",
       "        vertical-align: top;\n",
       "    }\n",
       "\n",
       "    .dataframe thead th {\n",
       "        text-align: right;\n",
       "    }\n",
       "</style>\n",
       "<table border=\"1\" class=\"dataframe\">\n",
       "  <thead>\n",
       "    <tr style=\"text-align: right;\">\n",
       "      <th></th>\n",
       "      <th>large_category_name</th>\n",
       "      <th>small_category_name</th>\n",
       "      <th>zzim</th>\n",
       "      <th>product_name</th>\n",
       "      <th>product_price</th>\n",
       "      <th>product_event_price</th>\n",
       "      <th>seller_name</th>\n",
       "    </tr>\n",
       "  </thead>\n",
       "  <tbody>\n",
       "    <tr>\n",
       "      <th>28567</th>\n",
       "      <td>인테리어</td>\n",
       "      <td>NaN</td>\n",
       "      <td>1258</td>\n",
       "      <td>LED 별별 키즈방등</td>\n",
       "      <td>130000.0</td>\n",
       "      <td>128550.0</td>\n",
       "      <td>유캔라이팅</td>\n",
       "    </tr>\n",
       "    <tr>\n",
       "      <th>28568</th>\n",
       "      <td>인테리어</td>\n",
       "      <td>NaN</td>\n",
       "      <td>805</td>\n",
       "      <td>인테리어 특이한 무선 예쁜 플라밍고 무드등</td>\n",
       "      <td>18800.0</td>\n",
       "      <td>18462.0</td>\n",
       "      <td>리브하우스님의 스토어</td>\n",
       "    </tr>\n",
       "    <tr>\n",
       "      <th>28569</th>\n",
       "      <td>인테리어</td>\n",
       "      <td>NaN</td>\n",
       "      <td>663</td>\n",
       "      <td>퍽라이트 LED 무드등 매직램프 리모컨포함</td>\n",
       "      <td>17000.0</td>\n",
       "      <td>16680.0</td>\n",
       "      <td>유캔라이팅</td>\n",
       "    </tr>\n",
       "    <tr>\n",
       "      <th>28570</th>\n",
       "      <td>인테리어</td>\n",
       "      <td>NaN</td>\n",
       "      <td>624</td>\n",
       "      <td>무선 리모컨 LED 무드등 장식장 조명3개 1세트</td>\n",
       "      <td>16800.0</td>\n",
       "      <td>16482.0</td>\n",
       "      <td>건강연구소 스토어</td>\n",
       "    </tr>\n",
       "    <tr>\n",
       "      <th>28571</th>\n",
       "      <td>인테리어</td>\n",
       "      <td>NaN</td>\n",
       "      <td>328</td>\n",
       "      <td>레논 LED 빈티지 펜던트 인테리어 카페 유리조명 전등</td>\n",
       "      <td>77000.0</td>\n",
       "      <td>76080.0</td>\n",
       "      <td>리브하우스님의 스토어</td>\n",
       "    </tr>\n",
       "    <tr>\n",
       "      <th>...</th>\n",
       "      <td>...</td>\n",
       "      <td>...</td>\n",
       "      <td>...</td>\n",
       "      <td>...</td>\n",
       "      <td>...</td>\n",
       "      <td>...</td>\n",
       "      <td>...</td>\n",
       "    </tr>\n",
       "    <tr>\n",
       "      <th>28717</th>\n",
       "      <td>인테리어</td>\n",
       "      <td>NaN</td>\n",
       "      <td>439</td>\n",
       "      <td>Y자형 행거 옷걸이 9811Y</td>\n",
       "      <td>46900.0</td>\n",
       "      <td>46281.0</td>\n",
       "      <td>파인블루</td>\n",
       "    </tr>\n",
       "    <tr>\n",
       "      <th>28718</th>\n",
       "      <td>인테리어</td>\n",
       "      <td>NaN</td>\n",
       "      <td>387</td>\n",
       "      <td>T자형 행거 옷걸이 0402</td>\n",
       "      <td>32900.0</td>\n",
       "      <td>32421.0</td>\n",
       "      <td>파인블루</td>\n",
       "    </tr>\n",
       "    <tr>\n",
       "      <th>28719</th>\n",
       "      <td>인테리어</td>\n",
       "      <td>NaN</td>\n",
       "      <td>357</td>\n",
       "      <td>5단 실버랙</td>\n",
       "      <td>35900.0</td>\n",
       "      <td>35391.0</td>\n",
       "      <td>파인블루</td>\n",
       "    </tr>\n",
       "    <tr>\n",
       "      <th>28720</th>\n",
       "      <td>인테리어</td>\n",
       "      <td>NaN</td>\n",
       "      <td>404</td>\n",
       "      <td>LED 그로잉 무드등 인테리어 스탠드</td>\n",
       "      <td>26650.0</td>\n",
       "      <td>26233.0</td>\n",
       "      <td>파인블루</td>\n",
       "    </tr>\n",
       "    <tr>\n",
       "      <th>28721</th>\n",
       "      <td>인테리어</td>\n",
       "      <td>NaN</td>\n",
       "      <td>332</td>\n",
       "      <td>라이팅플러그L1 모음</td>\n",
       "      <td>20900.0</td>\n",
       "      <td>20541.0</td>\n",
       "      <td>파인블루</td>\n",
       "    </tr>\n",
       "  </tbody>\n",
       "</table>\n",
       "<p>155 rows × 7 columns</p>\n",
       "</div>"
      ],
      "text/plain": [
       "      large_category_name small_category_name  zzim  \\\n",
       "28567                인테리어                 NaN  1258   \n",
       "28568                인테리어                 NaN   805   \n",
       "28569                인테리어                 NaN   663   \n",
       "28570                인테리어                 NaN   624   \n",
       "28571                인테리어                 NaN   328   \n",
       "...                   ...                 ...   ...   \n",
       "28717                인테리어                 NaN   439   \n",
       "28718                인테리어                 NaN   387   \n",
       "28719                인테리어                 NaN   357   \n",
       "28720                인테리어                 NaN   404   \n",
       "28721                인테리어                 NaN   332   \n",
       "\n",
       "                         product_name  product_price  product_event_price  \\\n",
       "28567                     LED 별별 키즈방등       130000.0             128550.0   \n",
       "28568         인테리어 특이한 무선 예쁜 플라밍고 무드등        18800.0              18462.0   \n",
       "28569         퍽라이트 LED 무드등 매직램프 리모컨포함        17000.0              16680.0   \n",
       "28570     무선 리모컨 LED 무드등 장식장 조명3개 1세트        16800.0              16482.0   \n",
       "28571  레논 LED 빈티지 펜던트 인테리어 카페 유리조명 전등        77000.0              76080.0   \n",
       "...                               ...            ...                  ...   \n",
       "28717                Y자형 행거 옷걸이 9811Y        46900.0              46281.0   \n",
       "28718                 T자형 행거 옷걸이 0402        32900.0              32421.0   \n",
       "28719                          5단 실버랙        35900.0              35391.0   \n",
       "28720            LED 그로잉 무드등 인테리어 스탠드        26650.0              26233.0   \n",
       "28721                     라이팅플러그L1 모음        20900.0              20541.0   \n",
       "\n",
       "       seller_name  \n",
       "28567        유캔라이팅  \n",
       "28568  리브하우스님의 스토어  \n",
       "28569        유캔라이팅  \n",
       "28570    건강연구소 스토어  \n",
       "28571  리브하우스님의 스토어  \n",
       "...            ...  \n",
       "28717         파인블루  \n",
       "28718         파인블루  \n",
       "28719         파인블루  \n",
       "28720         파인블루  \n",
       "28721         파인블루  \n",
       "\n",
       "[155 rows x 7 columns]"
      ]
     },
     "execution_count": 24,
     "metadata": {},
     "output_type": "execute_result"
    }
   ],
   "source": [
    "df_product.query('small_category_name.isna()')"
   ]
  },
  {
   "cell_type": "code",
   "execution_count": 25,
   "metadata": {},
   "outputs": [],
   "source": [
    "df_product['small_category_name'] = df_product['small_category_name'].fillna('조명')"
   ]
  },
  {
   "cell_type": "code",
   "execution_count": 26,
   "metadata": {},
   "outputs": [],
   "source": [
    "df_product.loc[df_product['product_event_price'].isna() & df_product['product_price'].isna(), 'product_price'] = '구독특가'"
   ]
  },
  {
   "cell_type": "code",
   "execution_count": 27,
   "metadata": {},
   "outputs": [],
   "source": [
    "df_product.loc[df_product['product_event_price'].isna(), 'product_event_price'] = '할인없음'"
   ]
  },
  {
   "cell_type": "code",
   "execution_count": 28,
   "metadata": {},
   "outputs": [
    {
     "name": "stdout",
     "output_type": "stream",
     "text": [
      "<class 'pandas.core.frame.DataFrame'>\n",
      "Index: 50874 entries, 0 to 50875\n",
      "Data columns (total 7 columns):\n",
      " #   Column               Non-Null Count  Dtype \n",
      "---  ------               --------------  ----- \n",
      " 0   large_category_name  50874 non-null  object\n",
      " 1   small_category_name  50874 non-null  object\n",
      " 2   zzim                 50874 non-null  int64 \n",
      " 3   product_name         50874 non-null  object\n",
      " 4   product_price        50874 non-null  object\n",
      " 5   product_event_price  50874 non-null  object\n",
      " 6   seller_name          50874 non-null  object\n",
      "dtypes: int64(1), object(6)\n",
      "memory usage: 3.1+ MB\n"
     ]
    }
   ],
   "source": [
    "df_product.info()"
   ]
  },
  {
   "cell_type": "code",
   "execution_count": 35,
   "metadata": {},
   "outputs": [],
   "source": [
    "snsdraw = df_product.sort_values('zzim',ascending=False)[:300].value_counts('seller_name')[:10]"
   ]
  },
  {
   "cell_type": "code",
   "execution_count": 39,
   "metadata": {},
   "outputs": [
    {
     "data": {
      "text/plain": [
       "array([25, 25, 20, 19, 16, 14, 10, 10,  8,  7], dtype=int64)"
      ]
     },
     "execution_count": 39,
     "metadata": {},
     "output_type": "execute_result"
    }
   ],
   "source": [
    "snsdraw.values"
   ]
  },
  {
   "cell_type": "code",
   "execution_count": 38,
   "metadata": {},
   "outputs": [
    {
     "data": {
      "text/plain": [
       "Index(['유니엠님의 스토어', '위시드님의 스토어', '천연지기님의 스토어', '댕유마켓님의 스토어', '뷰에스피', '쑈킹디씨',\n",
       "       '차차실버', '트윈클링스타님의 스토어', '다모아아토즈님의 스토어', '올콘'],\n",
       "      dtype='object', name='seller_name')"
      ]
     },
     "execution_count": 38,
     "metadata": {},
     "output_type": "execute_result"
    }
   ],
   "source": [
    "snsdraw.index"
   ]
  },
  {
   "cell_type": "code",
   "execution_count": 42,
   "metadata": {},
   "outputs": [
    {
     "data": {
      "image/png": "[encoded data removed]",
      "text/plain": [
       "<Figure size 1200x600 with 1 Axes>"
      ]
     },
     "metadata": {},
     "output_type": "display_data"
    }
   ],
   "source": [
    "\n",
    "plt.figure(figsize=(12, 6))\n",
    "\n",
    "sns.barplot(data=snsdraw.to_frame(), x=snsdraw.index,y=snsdraw.values)\n",
    "\n",
    "plt.title('찜 상위 300개 항목의 판매자 top 10')\n",
    "plt.xticks(rotation=45)\n",
    "plt.show()"
   ]
  },
  {
   "cell_type": "code",
   "execution_count": null,
   "metadata": {},
   "outputs": [],
   "source": []
  }
 ],
 "metadata": {
  "kernelspec": {
   "display_name": "Python 3",
   "language": "python",
   "name": "python3"
  },
  "language_info": {
   "codemirror_mode": {
    "name": "ipython",
    "version": 3
   },
   "file_extension": ".py",
   "mimetype": "text/x-python",
   "name": "python",
   "nbconvert_exporter": "python",
   "pygments_lexer": "ipython3",
   "version": "3.10.7"
  }
 },
 "nbformat": 4,
 "nbformat_minor": 2
}
